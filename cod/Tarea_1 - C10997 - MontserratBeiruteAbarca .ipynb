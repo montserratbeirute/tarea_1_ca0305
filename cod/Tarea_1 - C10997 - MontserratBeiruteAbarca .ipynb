{
 "cells": [
  {
   "cell_type": "markdown",
   "id": "e6af39bb-0cf8-479c-a918-5c102c439a6d",
   "metadata": {},
   "source": [
    "# Tarea 1 \n",
    "## Montserrat Beirute Abarca C10997"
   ]
  },
  {
   "cell_type": "markdown",
   "id": "03e471cd-7a51-464e-a54e-ae2265f9b0c8",
   "metadata": {},
   "source": [
    "**Universidad de Costa Rica**<br>\n",
    "**Curso CA0305 I-2024**<br>\n",
    "**Encargado Potoy Juárez Luis Alberto**"
   ]
  },
  {
   "cell_type": "markdown",
   "id": "3637be89-f8fe-4977-9ebd-7cb5b2c47d9f",
   "metadata": {},
   "source": [
    "### Ejercicio 1"
   ]
  },
  {
   "cell_type": "markdown",
   "id": "609bd15f-c17a-40ce-baf9-5f17e0857b8b",
   "metadata": {},
   "source": [
    "El ejercicio nos pide una función que inicialice una lista con tres valores aleatorios del 1 al 100. Luego, debe impirmir en un diccionario con los componentes de la división, al dividirlo por otro número aleatorio del 1 al 10. "
   ]
  },
  {
   "cell_type": "code",
   "execution_count": 1,
   "id": "10b388ab-da9f-42ac-a452-cfd5c0f7cda6",
   "metadata": {},
   "outputs": [],
   "source": [
    "import random # le pedimos que importe random para generar números aleatorios, a sugerencia del profesor"
   ]
  },
  {
   "cell_type": "code",
   "execution_count": 2,
   "id": "d0939a5e-db85-4a3b-9008-5a7a78d6f121",
   "metadata": {},
   "outputs": [],
   "source": [
    "def ejercicio_1():\n",
    "    # inicializamos la lista de tres números aleatorios del 1 al 100 \n",
    "    num_aleatorio1 = random.randint(1,100)\n",
    "    num_aleatorio2 = random.randint(1,100)\n",
    "    num_aleatorio3 = random.randint(1,100)\n",
    "    lista_aleatoria = [num_aleatorio1,num_aleatorio2,num_aleatorio3]\n",
    "\n",
    "    # Seleccionamos un número aleatorio del 1 al 10\n",
    "    num_aleatorio4 = random.randint(1,10)\n",
    "\n",
    "    # Creamos un diccionario que se llama diccionario\n",
    "    diccionario = {}\n",
    "\n",
    "    # Obtenemos los componentes de la división y los almacenamos en diccionario \n",
    "    \n",
    "    diccionario['Dividendo'] = lista_aleatoria\n",
    "    diccionario['Divisor'] = [num_aleatorio4,num_aleatorio4,num_aleatorio4]\n",
    "    diccionario['Cociente'] = [num_aleatorio1 // num_aleatorio4, num_aleatorio2 // num_aleatorio4, num_aleatorio3 // num_aleatorio4]\n",
    "    diccionario['Residuo'] = [num_aleatorio1 % num_aleatorio4, num_aleatorio2 % num_aleatorio4, num_aleatorio3 % num_aleatorio4]\n",
    "    \n",
    "    return diccionario\n",
    "   "
   ]
  },
  {
   "cell_type": "code",
   "execution_count": 3,
   "id": "0aaf6313-6b62-435d-97fb-0fe1212c447d",
   "metadata": {},
   "outputs": [
    {
     "data": {
      "text/plain": [
       "{'Dividendo': [68, 24, 61],\n",
       " 'Divisor': [8, 8, 8],\n",
       " 'Cociente': [8, 3, 7],\n",
       " 'Residuo': [4, 0, 5]}"
      ]
     },
     "execution_count": 3,
     "metadata": {},
     "output_type": "execute_result"
    }
   ],
   "source": [
    "ejercicio_1()"
   ]
  },
  {
   "cell_type": "markdown",
   "id": "76ef48e1-b30b-4d26-a7b8-5d09b8967688",
   "metadata": {},
   "source": [
    "### Ejercicio 2 "
   ]
  },
  {
   "cell_type": "markdown",
   "id": "ddc6440c-136c-4fc4-9f01-6b508b71c163",
   "metadata": {},
   "source": [
    "Nos piden crear una función que reciba la cadena \"¡Hola!, ¿cómo va todo? Éxitos\" y devuelva un diccionario con la cantidad de apariciones de cada palabra en la cadena. En el código, a continuación se encontrarán unas notas por si se quiere no hacer diferencia entre palabras por sus mayúsculas y tildes. "
   ]
  },
  {
   "cell_type": "code",
   "execution_count": 4,
   "id": "395c46c6-605a-409b-942d-5994439df2cd",
   "metadata": {},
   "outputs": [],
   "source": [
    "cadena = '¡Hola!, ¿cómo va todo? Éxitos' # Esta cadena es fija, no varía. La función contempla que esta es la cadena que va a recibir. \n",
    "def ejercicio_2(cadena):\n",
    "\n",
    "    # Si quisieramos que la cadena identificara las palabras sin importar si están en mayúscula, se puede correr el siguiente código\n",
    "    # cadena = cadena.lower()\n",
    "\n",
    "    # Si quisieramos que se omitieran las tildes, se puede correr el siguiente código\n",
    "    # cadena = cadena.replace('é', 'e').replace('É', 'E').replace('á', 'a').replace('Á', 'A') .replace('í', 'i').replace('Í', 'I').replace('ó', 'o').replace('Ó', 'O').replace('ú', 'u').replace('Ú', 'U')\n",
    "\n",
    "    # Para separar la oración en partes, cada vez que aparece un espacio\n",
    "    palabras_distintas = cadena.split() \n",
    "\n",
    "    # Establecemos el diccionario cuenta que nos almacena la cantidad de veces que apareció la palabra. \n",
    "    cuenta = {} \n",
    "\n",
    "    # Le pedimos que cuente la cantidad de veces que sale cada palabra. \n",
    "    # Importante señalar que esto se hace así porque la cadena es fija, no va a cambiar. \n",
    "    cuenta['¡Hola!,'] = palabras_distintas.count('¡Hola!,')  \n",
    "    cuenta['¿cómo'] = palabras_distintas.count('¿cómo')\n",
    "    cuenta['va'] = palabras_distintas.count('va')\n",
    "    cuenta['todo?'] = palabras_distintas.count('todo?')\n",
    "    cuenta['Éxitos'] = palabras_distintas.count('Éxitos')\n",
    "\n",
    "\n",
    "   # En caso de que se realizaran ambas sugerencias sobre las mayúsculas y las tildes, esta sería la solución:\n",
    "    cuenta2 = {} \n",
    "    cuenta2['¡hola!,'] = palabras_distintas.count('¡hola!,')  \n",
    "    cuenta2['¿como'] = palabras_distintas.count('¿como')\n",
    "    cuenta2['va'] = palabras_distintas.count('va')\n",
    "    cuenta2['todo?'] = palabras_distintas.count('todo?')\n",
    "    cuenta2['exitos'] = palabras_distintas.count('exitos')\n",
    "\n",
    "\n",
    "    solucion = {}\n",
    "    \n",
    "    if (cuenta2['¡hola!,'] == 1):\n",
    "        solucion = cuenta2\n",
    "    else: solucion = cuenta\n",
    "    \n",
    "    return solucion"
   ]
  },
  {
   "cell_type": "code",
   "execution_count": 5,
   "id": "9c174650-8d39-498b-a78f-aab59de333d2",
   "metadata": {},
   "outputs": [
    {
     "data": {
      "text/plain": [
       "{'¡Hola!,': 1, '¿cómo': 1, 'va': 1, 'todo?': 1, 'Éxitos': 1}"
      ]
     },
     "execution_count": 5,
     "metadata": {},
     "output_type": "execute_result"
    }
   ],
   "source": [
    "ejercicio_2(cadena)"
   ]
  },
  {
   "cell_type": "markdown",
   "id": "fefb3dda-23a1-4702-a75d-7bf2dceaa4f8",
   "metadata": {},
   "source": [
    "### Ejercicio 3"
   ]
  },
  {
   "cell_type": "markdown",
   "id": "f678d0c8-12e3-4d4d-ae73-763a837aac0c",
   "metadata": {},
   "source": [
    "Se nos pide escribir una función que devuelva un diccionario con la cantidad de apariciones de los signos de puntuación.\n",
    "En este caso, se consultó la página [RAE](https://www.rae.es/ortograf%C3%ADa/signos-de-puntuaci%C3%B3n). "
   ]
  },
  {
   "cell_type": "code",
   "execution_count": 9,
   "id": "00cbde4e-4533-4837-8376-82f70fb5540d",
   "metadata": {},
   "outputs": [],
   "source": [
    "cadena = '¡Hola!, ¿cómo va todo? Éxitos'\n",
    "\n",
    "def ejercicio_3(cadena):\n",
    "    # vamos a considerar los signos de punctuación que considera la Real Academia Española\n",
    "\n",
    "    # Nos piden omitir las tildes\n",
    "    cadena = cadena.replace('é', 'e').replace('É', 'E').replace('á', 'a').replace('Á', 'A') .replace('í', 'i').replace('Í', 'I').replace('ó', 'o').replace('Ó', 'O').replace('ú', 'u').replace('Ú', 'U')\n",
    "\n",
    "    # Establecemos la variable tres_puntos para diferenciar el signo de punctuación '.' de '...'\n",
    "    tres_puntos = cadena.count('...')\n",
    "\n",
    "    # Almacenamos para cada signo de punctuación, la cantidad de veces que aparece en el texto. \n",
    "    signos = {\n",
    "        '.': cadena.count('.') - 3*tres_puntos,\n",
    "        ',': cadena.count(','),\n",
    "        ';': cadena.count(';'),\n",
    "        ':': cadena.count(':'),\n",
    "        '(': cadena.count('('),\n",
    "        ')': cadena.count(')'),\n",
    "        '{': cadena.count('{'),\n",
    "        '}': cadena.count('}'),\n",
    "        '-': cadena.count('-'),\n",
    "        '\"': cadena.count('\"'),\n",
    "        '¿': cadena.count('¿'),\n",
    "        '?': cadena.count('?'),\n",
    "        '¡': cadena.count('¡'),\n",
    "        '!': cadena.count('!'), \n",
    "        '...': cadena.count('...')\n",
    "    }\n",
    "\n",
    "    total_signos = signos['.'] + signos[','] + signos[';'] + signos[':'] + signos['('] + signos[')'] + signos['{'] + signos['}'] + signos['-'] + signos['\"'] + signos['¿'] + signos['?'] + signos['¡'] + signos['!'] + signos['...']  \n",
    "    return 'Hay ' + str(total_signos) + ' signos de puntuación siguiendo lo establecido por la RAE.'"
   ]
  },
  {
   "cell_type": "code",
   "execution_count": 10,
   "id": "60aafc99-c995-4b1f-8e72-5c28e907f127",
   "metadata": {},
   "outputs": [
    {
     "data": {
      "text/plain": [
       "'Hay 5 signos de puntuación siguiendo lo establecido por la RAE.'"
      ]
     },
     "execution_count": 10,
     "metadata": {},
     "output_type": "execute_result"
    }
   ],
   "source": [
    "ejercicio_3(cadena)"
   ]
  },
  {
   "cell_type": "markdown",
   "id": "277973c8-5360-4b38-9c7c-e53fb9b76438",
   "metadata": {},
   "source": [
    "### Ejercicio 4"
   ]
  },
  {
   "cell_type": "markdown",
   "id": "3b801151-658c-4306-a9cc-a41f4c76e28d",
   "metadata": {},
   "source": [
    "Nos piden escribir una función que reciba un **texto de dos palabras** y un caracter presente. Si el caracter está en el texto, debe devolver la cadena más larga en la que se encuentra ese caracter. \n",
    "El texto y caracter deben de ir escritos entre: ' '. \n",
    "Además, las palabras en el texto deben de ir separadas por un espacio. \n",
    "\n",
    "A continuación se presenta un ejemplo de lo que se espera que usted ingrese para que el código funcione de manera correcta. \n",
    "*Ejemplo: ejercicio_4('Jupyter Notebook','a').*"
   ]
  },
  {
   "cell_type": "code",
   "execution_count": 12,
   "id": "ec15d6ee-57ff-4b78-a2b5-c6e79a9a6da7",
   "metadata": {},
   "outputs": [],
   "source": [
    "def ejercicio_4(texto, caracter):\n",
    "    texto = texto.split()\n",
    "\n",
    "    # Si la persona ingresa más de dos palabras saldrá este mensaje \n",
    "    if (len(texto) > 2): \n",
    "        print( 'Se le solicita ingresar solo dos palabras para el texto, de lo contrario, la solución sólo tomará las primeras dos palabras que ingresó y omitirá las siguientes.')\n",
    "\n",
    "    # Si la persona ingresa menos de dos palabras, saldrá este mensaje\n",
    "    if ( len(texto) < 2): \n",
    "        return 'No ingresaste las dos palabras solicitadas.'\n",
    "        \n",
    "    # Obtenemos el tamaño de las palabras ingresadas\n",
    "    length1 = len(texto[0])\n",
    "    length2 = len(texto[1])\n",
    "\n",
    "    # Procedemos por casos\n",
    "\n",
    "    # Caso 1: Si la primera palabra es más larga que la segunda palabra entonces tomamos este camino y se omiten los siguientes dos casos. \n",
    "    if (length1 > length2):\n",
    "\n",
    "        # Luego analizamos si la primera palabra tiene el caracter ingresado, si lo tiene, hemos encontrado la palabra más larga con el caracter ingresado. \n",
    "        if (texto[0].count(caracter) > 0):\n",
    "            palabra_escogida = texto[0]\n",
    "\n",
    "        # Si la primera palabra no tiene el caracter ingresado, revisamos si la palabra dos tiene el caracter ingresado, si lo tiene, hemos encontrado la palabra más larga con el caracter ingresado. \n",
    "        elif(texto[1].count(caracter) > 0):\n",
    "            palabra_escogida = texto[1]\n",
    "\n",
    "        # Si ninguna de las palabras tiene el caracter ingresado, le decimos que ninguna palabra tiene el caracter ingresado y se omite el siguiente caso. \n",
    "        else:\n",
    "            palabra_escogida = 'Ninguna de las palabras tiene el caracter ingresado.'\n",
    "\n",
    "    # Caso 2: Si la segunda palabra es más larga que la primera palabra, entonces tomamos este camino. \n",
    "    # Se repite la misma lógica del primer caso. \n",
    "    \n",
    "    elif (length2 > length1): \n",
    "        if (texto[1].count(caracter) > 0):\n",
    "            palabra_escogida = texto[1]\n",
    "        elif(texto[0].count(caracter) > 0):\n",
    "            palabra_escogida = texto[0]\n",
    "        else:\n",
    "            palabra_escogida = 'Ninguna de las palabras tiene el caracter ingresado.'\n",
    "            \n",
    "    # Caso 3: Si las palabras son del mismo tamaño, se toma este camino. \n",
    "    else: \n",
    "        \n",
    "        # Verificamos si la primera palabra tiene el caracter ingresado. \n",
    "        if (texto[0].count(caracter) > 0):\n",
    "            \n",
    "            # Si la primera palabra tiene el caracter, revisamos si la segunda palabra tiene el caracter ingresado. \n",
    "            if (texto[1].count(caracter) > 0):\n",
    "\n",
    "                # Si la segunda palabra también tiene el caracter, devolvemos las palabras y señalamos que ambas palabras lo tienen\n",
    "                palabra_escogida = str(texto[0]) + ' y ' + str(texto[1]) +' ambas son del mismo tamaño y tienen el caracter ingresado.'\n",
    "\n",
    "            # Si la palabra dos no tiene el caracter, solo devolvemos la primera palabra. \n",
    "            else: palabra_escogida = texto[0]\n",
    "\n",
    "        # Si la primera palabra no tiene el caracter ingresado, entonces vamos por este camino. \n",
    "        else: \n",
    "            # Verificamos si la segunda palabra tiene el caracter. \n",
    "            if (texto[1].count(caracter) > 0):\n",
    "\n",
    "                # Si lo tiene, devolvemos unicamente la palabra dos. \n",
    "                palabra_escogida = texto[1]\n",
    "\n",
    "            # Si la segunda palabra no tiene el caracter, devolvemos el siguiente mensaje. \n",
    "            else: palabra_escogida = str(texto[0]) + ' y ' + str(texto[1]) + ' son del mismo tamaño y ninguna tiene el caracter ingresado.'\n",
    "\n",
    "    respuesta = {}\n",
    "    respuesta[caracter] = palabra_escogida\n",
    "    return respuesta"
   ]
  },
  {
   "cell_type": "code",
   "execution_count": 13,
   "id": "329b9c70-e67d-4f4e-a164-4381c3ecba7d",
   "metadata": {},
   "outputs": [
    {
     "data": {
      "text/plain": [
       "{'f': 'buenas y tardes son del mismo tamaño y ninguna tiene el caracter ingresado.'}"
      ]
     },
     "execution_count": 13,
     "metadata": {},
     "output_type": "execute_result"
    }
   ],
   "source": [
    "ejercicio_4('buenas tardes', 'f')"
   ]
  },
  {
   "cell_type": "markdown",
   "id": "9e2a4d75-6cd2-43ba-8297-c024fead0c0b",
   "metadata": {},
   "source": [
    "### Ejercicio 5"
   ]
  },
  {
   "cell_type": "markdown",
   "id": "6a014064-2eb6-4985-9778-2e43b27c2dfd",
   "metadata": {},
   "source": [
    "Nos piden crear una función que reciba un diccionario de pacientes del \"Hospital Acetaminofén\" y\n",
    "devuelva como mínimo 5 características de los pacientes. Puede usar información estadística: Edad\n",
    "media, tiempo de permanencia es el hospital, costos por nivel de emergencia, tipos de sangre, etc."
   ]
  },
  {
   "cell_type": "code",
   "execution_count": 14,
   "id": "02055ce5-8b88-43e7-8289-93a1b32ac4ac",
   "metadata": {},
   "outputs": [],
   "source": [
    "# primero debemos ingresar el siguiente paquete por sugerencia del profesor\n",
    "import datetime"
   ]
  },
  {
   "cell_type": "markdown",
   "id": "3f7163e0-af61-43dd-a66e-f6ab8139f841",
   "metadata": {},
   "source": [
    "Nos dan la siguiente información de los pacientes del Hospital.\n",
    "\n",
    "Analizando los datos, el paciente 2 al día de hoy, no ha salido del hospital. Dado que su nivel de emergencia es de 5 y que su edad es de 7 años, se espera que el paciente 2 esté en el hospital por batante tiempo. Sin embargo, tomando como referencia las características del paciente 3 (paciente de 65 años nivel de emergencia 4) se espera que por la edad, el paciente 2 tarde menos en recuperarse y salir del hospital. Por este motivo, se hace el supuesto de que el paciente 2, va a tardar tres cuartos del tiempo que tardó el paciente 3. Por lo tanto, se considera que el paciente 2 tardará 274 días para ser exactos. "
   ]
  },
  {
   "cell_type": "code",
   "execution_count": 15,
   "id": "c92eaa94-8cb0-433b-9804-7f09b15a92b7",
   "metadata": {},
   "outputs": [],
   "source": [
    "# A continuación, la información de los pacientes del \"Hospital Acetaminofén\"\n",
    "lista_pacientes = {\n",
    "\"1\": {\n",
    "\"Edad\": 23,\n",
    "\"Tipo sangre\": \"-O\",\n",
    "\"Fecha ingreso\": datetime.datetime(2023, 6, 1),\n",
    "\"Fecha salida\": datetime.datetime(2023, 6, 15),\n",
    "\"Nivel de emergencia\": 2,\n",
    "\"Pago de servicios\": 502333\n",
    "},\n",
    "\"2\": {\n",
    "\"Edad\": 7,\n",
    "\"Tipo sangre\": \"AB+\",\n",
    "\"Fecha ingreso\": datetime.datetime(2024, 1, 1), \n",
    "\"Fecha salida\": datetime.datetime(2024, 10, 1), # se explicará más adelante la escogencia de esta fecha de salida\n",
    "\"Nivel de emergencia\": 5,\n",
    "\"Pago de servicios\": 0\n",
    "},\n",
    "\"3\": {\n",
    "\"Edad\": 65,\n",
    "\"Tipo sangre\": \"AB+\",\n",
    "\"Fecha ingreso\": datetime.datetime(2023, 2, 1),\n",
    "\"Fecha salida\": datetime.datetime(2024, 2, 1),\n",
    "\"Nivel de emergencia\": 4,\n",
    "\"Pago de servicios\": 28006000\n",
    "},\n",
    "\"4\": {\n",
    "\"Edad\": 23,\n",
    "\"Tipo sangre\": \"AB-\",\n",
    "\"Fecha ingreso\": datetime.datetime(2024, 2, 1),\n",
    "\"Fecha salida\": datetime.datetime(2024, 2, 1),\n",
    "\"Nivel de emergencia\": 0,\n",
    "\"Pago de servicios\": 200300\n",
    "},\n",
    "}\n",
    "\n"
   ]
  },
  {
   "cell_type": "code",
   "execution_count": 16,
   "id": "927eb219-5216-47c9-bcde-db5d712dbf91",
   "metadata": {},
   "outputs": [],
   "source": [
    "def ejercicio_5(diccionario):\n",
    "    suma_edades = diccionario['1']['Edad'] + diccionario['2']['Edad'] + diccionario['3']['Edad'] + diccionario['4']['Edad']\n",
    "    edad_media = suma_edades / 4\n",
    "    caracteristicas = {\n",
    "        \"Edad media de los pacientes\": edad_media,\n",
    "        \"Varianza de las edades de los pacientes\": (pow((diccionario['1']['Edad'] - edad_media),2) + pow((diccionario['2']['Edad'] - edad_media),2) + pow((diccionario['3']['Edad'] - edad_media),2) + pow((diccionario['4']['Edad'] - edad_media),2))/4,\n",
    "        \"Tipos de sangre\": {diccionario['1']['Tipo sangre'], diccionario['2']['Tipo sangre'], diccionario['3']['Tipo sangre'], diccionario['4']['Tipo sangre']},\n",
    "        \"Niveles de emergencia de los pacientes\": {diccionario['1']['Nivel de emergencia'], diccionario['2']['Nivel de emergencia'], diccionario['3']['Nivel de emergencia'], diccionario['4']['Nivel de emergencia']},\n",
    "        \"Promedio de dias en el hospital de los pacientes\": ((diccionario['1']['Fecha salida'] - diccionario['1']['Fecha ingreso']).days + (diccionario['2']['Fecha salida'] - diccionario['2']['Fecha ingreso']).days + (diccionario['3']['Fecha salida'] - diccionario['3']['Fecha ingreso']).days + (diccionario['4']['Fecha salida'] - diccionario['4']['Fecha ingreso']).days)/4}\n",
    "   \n",
    "    return caracteristicas\n",
    "\n"
   ]
  },
  {
   "cell_type": "code",
   "execution_count": 17,
   "id": "3823d2d7-cece-4a92-80a7-83a8131b2be9",
   "metadata": {},
   "outputs": [
    {
     "data": {
      "text/plain": [
       "{'Edad media de los pacientes': 29.5,\n",
       " 'Varianza de las edades de los pacientes': 462.75,\n",
       " 'Tipos de sangre': {'-O', 'AB+', 'AB-'},\n",
       " 'Niveles de emergencia de los pacientes': {0, 2, 4, 5},\n",
       " 'Promedio de dias en el hospital de los pacientes': 163.25}"
      ]
     },
     "execution_count": 17,
     "metadata": {},
     "output_type": "execute_result"
    }
   ],
   "source": [
    "ejercicio_5(lista_pacientes)"
   ]
  },
  {
   "cell_type": "code",
   "execution_count": 18,
   "id": "eadaac97-1b88-4e32-a3cc-92fd46cffe57",
   "metadata": {},
   "outputs": [],
   "source": [
    "### Ejercicio 6"
   ]
  },
  {
   "cell_type": "markdown",
   "id": "640fbfe8-9a72-44ae-89ec-8b931cd9f933",
   "metadata": {},
   "source": [
    "El gerente general del hospital desea saber cuánto va a cobrar por día por los pacientes. Se sabe que si el cliente dura menos de un día, se le cobra 8 000, si dura menos de un mes, se le cobra por día 15 000 y si cliente dura más de un mes se le cobrará 1 000 000 cada mes.\n",
    "Además, el hospital asume los gastos de los menores de edad. Se debe adicionar con el 13% del IVA. Se debe especificar cuánto s la diferencia con respecto al pago actual y cuánto debe resevar del IVA. "
   ]
  },
  {
   "cell_type": "markdown",
   "id": "e3290d8d-b3c1-4d33-916b-9814f82fe918",
   "metadata": {},
   "source": [
    "Supuestos: \n",
    "1. Los meses tienen 30 días.  \n",
    "2. Como ya se especificó en el ejercicio 5, el paciente dos se estima que va a durar 274 días, aproximadamente 3/4 partes de lo que tardó el paciente 3 (67 años y nivel de emergencia 4).\n",
    "3. Si el paciente es menor de edad, no va a pagar absolutamente nada. El hospital asume los gastos. \n",
    "4. Se asume que el hospital paga los gastos del IVA a hacienda por aquellos pacientes menor de edad. \n",
    "5. Si la persona dura más de un mes, entonces se le cobrará por día 33,333 colones. "
   ]
  },
  {
   "cell_type": "code",
   "execution_count": 20,
   "id": "91afeb95-a29e-4128-b30a-65cea40c2ef7",
   "metadata": {},
   "outputs": [],
   "source": [
    "def ejercicio_6():\n",
    "    \n",
    "    # Vamos a ir repitiendo el mismo proceso por cada paciente\n",
    "    # Nos interesa saber cuánto tecnicamente se le debe cobrar al paciente incluyendo el IVA por dar el servicio\n",
    "    # Escribo \"tecnicamente\" por que si es menor de edad, el hospital asume los gastos. \n",
    "    \n",
    "    # paciente 1 ---------------------------------------------------------------------------------\n",
    "    \n",
    "    cuenta_hospital_1 = 0 # esta variable guarda lo que ha costado tecnicamente darle el servicio al cliente 1 sin el IVA.\n",
    "    paga_cliente_1 = 0 # esta variable guarda lo que el cliente según las condiciones debe pagarle al hospital.\n",
    "    reserv_IVA_1 = 0 # esta variable guarda el monto de IVA que tecnicamente se le debe cobrar al paciente por el servicio.\n",
    "    estancia_1 = (lista_pacientes['1']['Fecha salida'] - lista_pacientes['1']['Fecha ingreso']).days # en esta variable guardamos los dias que tardó el paciente en el hospital. \n",
    "\n",
    "    # Si el paciente 1 es menor de edad, entonces no paga nada y el hospital va a asumir el gasto. \n",
    "    if lista_pacientes['1']['Edad'] < 18:\n",
    "        paga_cliente_1 = 0\n",
    "\n",
    "        # Si el paciente 1 es menor de edad y duró menos de un dia en el hospital, entonces el costo por el servicio es de 8000\n",
    "        if estancia_1 == 0:\n",
    "            cuenta_hospital_1 = -8000 # note que suma al negativo por que esto va afectar negativamente los ingresos del hospital\n",
    "            reserv_IVA_1 = cuenta_hospital_1 * 0.13  # este por el momento también se queda negativo. \n",
    "\n",
    "        # Si el paciente 1 es menor de edad y duró menos de un mes en el hospital, entonces el costo por el servicio es de 15000 por día\n",
    "        elif estancia_1 < 30:\n",
    "            cuenta_hospital_1 = -15000 * estancia_1  # note que suma al negativo por que esto va afectar negativamente los ingresos del hospital\n",
    "            reserv_IVA_1 = cuenta_hospital_1 * 0.13  # este por el momento también se queda negativo.\n",
    "\n",
    "        # De lo contrario, el servicio cuesta 333,333 por día. \n",
    "        else:\n",
    "            cuenta_hospital_1 = -1000000 / 30 * estancia_1  # note que suma al negativo por que esto va afectar negativamente los ingresos del hospital\n",
    "            reserv_IVA_1 = cuenta_hospital_1 * 0.13  # este por el momento también se queda negativo.\n",
    "\n",
    "    # Si el paciente 1 es mayor de edad, entonces tomamos este camino. \n",
    "    else: \n",
    "        # Si el paciente 1 es mayor de edad y duró menos de un dia en el hospital, entonces el costo por el servicio es de 8000\n",
    "        if estancia_1 == 0:\n",
    "            cuenta_hospital_1 = 8000\n",
    "            paga_cliente_1 = cuenta_hospital_1\n",
    "            reserv_IVA_1 = cuenta_hospital_1 * 0.13\n",
    "\n",
    "        # Si el paciente 1 es mayor de edad y duró menos de un mes en el hospital, entonces el costo por el servicio es de 15000 por día\n",
    "        elif estancia_1 < 30:\n",
    "            cuenta_hospital_1 = 15000 * estancia_1\n",
    "            paga_cliente_1 = cuenta_hospital_1\n",
    "            reserv_IVA_1 = cuenta_hospital_1 * 0.13\n",
    "        # De lo contrario, se le cobrará 333,333 por día.\n",
    "        else:\n",
    "            cuenta_hospital_1 = 1000000 / 30 * estancia_1\n",
    "            paga_cliente_1 = cuenta_hospital_1\n",
    "            reserv_IVA_1 = cuenta_hospital_1 * 0.13\n",
    "\n",
    "    if (reserv_IVA_1 < 0):\n",
    "        IVA_1_pagado_por_cliente = 0 # el cliente no paga si es menor de edad\n",
    "        menor_1_cuenta = cuenta_hospital_1 # El hospital debe pagar los costos del paciente menor de edad \n",
    "        menor_1_IVA = reserv_IVA_1 # el hospital debe asumir el IVA\n",
    "    else: \n",
    "        IVA_1_pagado_por_cliente = reserv_IVA_1 # el IVA el cliente lo paga al hospital y el hospital lo transfiere a Hacienda. \n",
    "        menor_1_cuenta = 0 # el hospital no asume los gastos de las personas mayores de edad\n",
    "        menor_1_IVA = 0 # el hospital no asume el IVA de las personas mayores de edad. \n",
    "\n",
    "    # Para los siguientes pacientes, se repite el mismo código pero con los datos respectivos para cada cliente. \n",
    "    \n",
    "    # paciente 2 ---------------------------------------------------------------------------------\n",
    "    \n",
    "    estancia_2 = (lista_pacientes['2']['Fecha salida'] - lista_pacientes['2']['Fecha ingreso']).days\n",
    "    \n",
    "    if lista_pacientes['2']['Edad'] < 18:\n",
    "        paga_cliente_2 = 0\n",
    "        if estancia_2 == 0:\n",
    "            cuenta_hospital_2 = -8000\n",
    "            reserv_IVA_2 = cuenta_hospital_2 * 0.13\n",
    "        elif estancia_2 < 30:\n",
    "            cuenta_hospital_2 = -15000 * estancia_2\n",
    "            reserv_IVA_2 = cuenta_hospital_2 * 0.13\n",
    "        else:\n",
    "            cuenta_hospital_2 = -1000000 / 30 * estancia_2\n",
    "            reserv_IVA_2 = cuenta_hospital_2 * 0.13\n",
    "    else: \n",
    "        if estancia_2 == 0:\n",
    "            cuenta_hospital_2 = 8000\n",
    "            paga_cliente_2 = cuenta_hospital_2\n",
    "            reserv_IVA_2 = cuenta_hospital_2 * 0.13\n",
    "        elif estancia_2 < 30:\n",
    "            cuenta_hospital_2 = 15000 * estancia_2\n",
    "            paga_cliente_2 = cuenta_hospital_2\n",
    "            reserv_IVA_2 = cuenta_hospital_2 * 0.13\n",
    "        else:\n",
    "            cuenta_hospital_2 = 1000000 / 30 * estancia_2\n",
    "            paga_cliente_2 = cuenta_hospital_2\n",
    "            reserv_IVA_2 = cuenta_hospital_2 * 0.13\n",
    "\n",
    "    if (reserv_IVA_2 < 0):\n",
    "        IVA_2_pagado_por_cliente = 0\n",
    "        menor_2_cuenta = cuenta_hospital_2\n",
    "        menor_2_IVA = reserv_IVA_2\n",
    "    else: \n",
    "        IVA_2_pagado_por_cliente = reserv_IVA_2\n",
    "        menor_2_cuenta = 0\n",
    "        menor_2_IVA = 0\n",
    "\n",
    "    # paciente 3 ---------------------------------------------------------------------------------\n",
    "\n",
    "    estancia_3 = (lista_pacientes['3']['Fecha salida'] - lista_pacientes['3']['Fecha ingreso']).days\n",
    "    \n",
    "    if lista_pacientes['3']['Edad'] < 18:\n",
    "        paga_cliente_3 = 0\n",
    "        if estancia_3 == 0:\n",
    "            cuenta_hospital_3 = -8000\n",
    "            reserv_IVA_3 = cuenta_hospital_3 * 0.13\n",
    "        elif estancia_3 < 30:\n",
    "            cuenta_hospital_3 = -15000 * estancia_3\n",
    "            reserv_IVA_3 = cuenta_hospital_3* 0.13\n",
    "        else:\n",
    "            cuenta_hospital_3 = -1000000 / 30 * estancia_3\n",
    "            reserv_IVA_3 = cuenta_hospital_3 * 0.13\n",
    "    else: \n",
    "        if estancia_3 == 0:\n",
    "            cuenta_hospital_3 = 8000\n",
    "            paga_cliente_3 = cuenta_hospital_3\n",
    "            reserv_IVA_3 = cuenta_hospital_3 * 0.13\n",
    "        elif estancia_3 < 30:\n",
    "            cuenta_hospital_3 = 15000 * estancia_3\n",
    "            paga_cliente_3 = cuenta_hospital_3\n",
    "            reserv_IVA_3 = cuenta_hospital_3 * 0.13\n",
    "        else:\n",
    "            cuenta_hospital_3 = 1000000 / 30 * estancia_3\n",
    "            paga_cliente_3 = cuenta_hospital_3\n",
    "            reserv_IVA_3 = cuenta_hospital_3 * 0.13\n",
    "\n",
    "    if (reserv_IVA_3 < 0):\n",
    "        IVA_3_pagado_por_cliente = 0\n",
    "        menor_3_cuenta = cuenta_hospital_3\n",
    "        menor_3_IVA = reserv_IVA_3\n",
    "    else: \n",
    "        IVA_3_pagado_por_cliente = reserv_IVA_3\n",
    "        menor_3_cuenta = 0\n",
    "        menor_3_IVA = 0\n",
    "\n",
    "    # paciente 4 ---------------------------------------------------------------------------------\n",
    "\n",
    "    estancia_4 = (lista_pacientes['4']['Fecha salida'] - lista_pacientes['4']['Fecha ingreso']).days\n",
    "    \n",
    "    if lista_pacientes['4']['Edad'] < 18:\n",
    "        paga_cliente_4 = 0\n",
    "        if estancia_4 == 0:\n",
    "            cuenta_hospital_4 = -8000\n",
    "            reserv_IVA_4 = cuenta_hospital_4 * 0.13\n",
    "        elif estancia_4 < 30:\n",
    "            cuenta_hospital_4 = -15000 * estancia_4\n",
    "            reserv_IVA_4 = cuenta_hospital_4* 0.13\n",
    "        else:\n",
    "            cuenta_hospital_4 = -1000000 / 30 * estancia_4\n",
    "            reserv_IVA_4 = cuenta_hospital_4 * 0.13\n",
    "    else: \n",
    "        if estancia_4 == 0:\n",
    "            cuenta_hospital_4 = 8000\n",
    "            paga_cliente_4 = cuenta_hospital_4\n",
    "            reserv_IVA_4 = cuenta_hospital_4 * 0.13\n",
    "        elif estancia_4 < 30:\n",
    "            cuenta_hospital_4 = 15000 * estancia_4\n",
    "            paga_cliente_4 = cuenta_hospital_4\n",
    "            reserv_IVA_4 = cuenta_hospital_4 * 0.13\n",
    "        else:\n",
    "            cuenta_hospital_4 = 1000000 / 30 * estancia_4\n",
    "            paga_cliente_4 = cuenta_hospital_4\n",
    "            reserv_IVA_4 = cuenta_hospital_4 * 0.13\n",
    "\n",
    "    if (reserv_IVA_4 < 0):\n",
    "        IVA_4_pagado_por_cliente = 0\n",
    "        menor_4_cuenta = cuenta_hospital_4\n",
    "        menor_4_IVA = reserv_IVA_4\n",
    "    else: \n",
    "        IVA_4_pagado_por_cliente = reserv_IVA_4\n",
    "        menor_4_cuenta = 0\n",
    "        menor_4_IVA = 0\n",
    "        \n",
    "    Resultados = {}\n",
    "    \n",
    "    Resultados[\"Cliente 1\"] = {\n",
    "    \"Este cliente pagaría\": paga_cliente_1 + IVA_1_pagado_por_cliente, \n",
    "    \"Lo que espera pagar menos el pago actual para este cliente sería\": (paga_cliente_1 + IVA_1_pagado_por_cliente) - lista_pacientes['1']['Pago de servicios'], \n",
    "    \"Cuánto debe de reservar el Hospital para el IVA\": reserv_IVA_1}\n",
    "\n",
    "    Resultados[\"Cliente 2\"] = {\n",
    "    \"Este cliente pagaría\": paga_cliente_2 + IVA_2_pagado_por_cliente, \n",
    "    \"Lo que espera pagar menos el pago actual para este cliente sería\": (paga_cliente_2 + IVA_2_pagado_por_cliente) - lista_pacientes['2']['Pago de servicios'], \n",
    "    \"Cuánto debe de reservar el Hospital para el IVA\": reserv_IVA_2}\n",
    "\n",
    "    Resultados[\"Cliente 3\"] = {\n",
    "    \"Este cliente pagaría\": paga_cliente_3 + IVA_3_pagado_por_cliente, \n",
    "    \"Lo que espera pagar menos el pago actual para este cliente sería\": (paga_cliente_3 + IVA_3_pagado_por_cliente) - lista_pacientes['3']['Pago de servicios'], \n",
    "    \"Cuánto debe de reservar el Hospital para el IVA\": reserv_IVA_3}\n",
    "\n",
    "    Resultados[\"Cliente 4\"] = {\n",
    "    \"Este cliente pagaría\": paga_cliente_4 + IVA_4_pagado_por_cliente, \n",
    "    \"Lo que espera pagar menos el pago actual para este cliente sería\": (paga_cliente_4 + IVA_4_pagado_por_cliente) - lista_pacientes['4']['Pago de servicios'], \n",
    "    \"Cuánto debe de reservar el Hospital para el IVA\": reserv_IVA_4}\n",
    "\n",
    "    Total_recibe_hospital = paga_cliente_1 + IVA_1_pagado_por_cliente + paga_cliente_2 + IVA_2_pagado_por_cliente + paga_cliente_3 + IVA_3_pagado_por_cliente + paga_cliente_4 + IVA_4_pagado_por_cliente \n",
    "\n",
    "    Total_asume_hospital_con_IVA = (menor_1_cuenta + menor_1_IVA + menor_2_cuenta + menor_2_IVA + menor_3_cuenta + menor_3_IVA + menor_4_cuenta + menor_4_IVA)*(-1) # todos estos eran valores negativos, pero yo quiero saber el total positivo que estaría asumiendo el hospital\n",
    "    \n",
    "    Total_reserva_hospital_sin_menores = IVA_1_pagado_por_cliente + IVA_2_pagado_por_cliente + IVA_3_pagado_por_cliente + IVA_4_pagado_por_cliente\n",
    "\n",
    "    Total_reserva_hospital_contando_menores = Total_reserva_hospital_sin_menores - menor_1_IVA - menor_2_IVA - menor_3_IVA - menor_4_IVA # estoy sumandole el gasto del iva por los menores que asume el hospital\n",
    "\n",
    "    Total_hospi_despues_de_gastos = Total_recibe_hospital - Total_asume_hospital_con_IVA - Total_reserva_hospital_sin_menores \n",
    "\n",
    "    Resultados[\"Conclusiones\"] = {\n",
    "    \"Si se suma todo el dinero que recauda el Hospital (incluyendo el IVA) por los cuatro clientes, se obtiene\": Total_recibe_hospital,\n",
    "    \"Si se suma todo lo que el hospital asume por concepto de menor de edad (incluyendo el IVA), se obtiene\": Total_asume_hospital_con_IVA,\n",
    "    \"Si se suma todo lo que el hospital debe pagar en IVA (sin incluir los menores de edad), se obtiene\": Total_reserva_hospital_sin_menores, \n",
    "    \"Si se suma todo lo que el hospital debe pagar en IVA (incluyendo los menores de edad), se obtiene\": Total_reserva_hospital_contando_menores,\n",
    "    \"Si se suma todo lo que recibe el hospital, se le resta los gastos en menores de edad y se le resta lo que debe de pagar por IVA, se obtiene que el hospital va a tener\": Total_hospi_despues_de_gastos\n",
    "    }\n",
    "\n",
    "    return Resultados"
   ]
  },
  {
   "cell_type": "code",
   "execution_count": 21,
   "id": "7bc1a90a-c398-4d45-bef8-cc82498badf6",
   "metadata": {},
   "outputs": [
    {
     "data": {
      "text/plain": [
       "{'Cliente 1': {'Este cliente pagaría': 237300.0,\n",
       "  'Lo que espera pagar menos el pago actual para este cliente sería': -265033.0,\n",
       "  'Cuánto debe de reservar el Hospital para el IVA': 27300.0},\n",
       " 'Cliente 2': {'Este cliente pagaría': 0,\n",
       "  'Lo que espera pagar menos el pago actual para este cliente sería': 0,\n",
       "  'Cuánto debe de reservar el Hospital para el IVA': -1187333.3333333335},\n",
       " 'Cliente 3': {'Este cliente pagaría': 13748333.333333336,\n",
       "  'Lo que espera pagar menos el pago actual para este cliente sería': -14257666.666666664,\n",
       "  'Cuánto debe de reservar el Hospital para el IVA': 1581666.666666667},\n",
       " 'Cliente 4': {'Este cliente pagaría': 9040.0,\n",
       "  'Lo que espera pagar menos el pago actual para este cliente sería': -191260.0,\n",
       "  'Cuánto debe de reservar el Hospital para el IVA': 1040.0},\n",
       " 'Conclusiones': {'Si se suma todo el dinero que recauda el Hospital (incluyendo el IVA) por los cuatro clientes, se obtiene': 13994673.333333336,\n",
       "  'Si se suma todo lo que el hospital asume por concepto de menor de edad (incluyendo el IVA), se obtiene': 10320666.666666668,\n",
       "  'Si se suma todo lo que el hospital debe pagar en IVA (sin incluir los menores de edad), se obtiene': 1610006.666666667,\n",
       "  'Si se suma todo lo que el hospital debe pagar en IVA (incluyendo los menores de edad), se obtiene': 2797340.0000000005,\n",
       "  'Si se suma todo lo que recibe el hospital, se le resta los gastos en menores de edad y se le resta lo que debe de pagar por IVA, se obtiene que el hospital va a tener': 2064000.000000001}}"
      ]
     },
     "execution_count": 21,
     "metadata": {},
     "output_type": "execute_result"
    }
   ],
   "source": [
    "ejercicio_6()"
   ]
  },
  {
   "cell_type": "markdown",
   "id": "390f166c-f1fb-49b4-b90d-a34b0ae1a61b",
   "metadata": {},
   "source": [
    "Ejercicio 7"
   ]
  },
  {
   "cell_type": "markdown",
   "id": "8e2bfccd-68fc-4327-b05c-382a935a0034",
   "metadata": {},
   "source": [
    "Nos piden crear una función que inicilice un diccionario con las siguientes clases de seguros de prima mensual:  Automóviles comunes 3%, carros para Uber 5%,\n",
    "motocicletas 5.5%, Camión de carga pesada o liviana 4%, Buses 5%, Embarcaciones 5%. Además, esta\n",
    "función debe estimar el monto de la prima mensual, trimestral, semestral o anual con respecto al\n",
    "valor fiscal de activo asegurado. Considerando que por cada mes **adelantado** que pague se le hará un 0.5%\n",
    "de descuento en la prima.\n",
    "\n",
    "\n",
    "Este ejercicio yo lo interpreté diferente al profesor, lo cual lo hablamos en consulta."
   ]
  },
  {
   "cell_type": "code",
   "execution_count": 23,
   "id": "c918a493-979a-4bcc-801e-11eb0f8b534b",
   "metadata": {},
   "outputs": [],
   "source": [
    "def ejercicio_7(valor_fiscal_del_activo, tipo_de_vehiculo, plazo_a_pagar, meses_de_cobertura):\n",
    "    clases_de_seguros = {}\n",
    "    clases_de_seguros[\"Automovil comun\"] = {'Prima mensual': 0.03}\n",
    "    clases_de_seguros[\"Carro para Uber\"] = {'Prima mensual': 0.05}\n",
    "    clases_de_seguros[\"Motocicleta\"] = {'Prima mensual': 0.055}\n",
    "    clases_de_seguros[\"Camión de carga pesada o liviana\"] = {'Prima mensual': 0.04}\n",
    "    clases_de_seguros[\"Bus\"] = {'Prima mensual': 0.05}\n",
    "    clases_de_seguros[\"Embarcacion\"] = {'Prima mensual': 0.05}\n",
    "\n",
    "    descuento = 1\n",
    "    if (plazo_a_pagar == 'trimestral'):\n",
    "        constante = 3\n",
    "    elif (plazo_a_pagar == 'semestral'):\n",
    "        constante = 6\n",
    "    elif (plazo_a_pagar== 'anual'):\n",
    "        constante = 12\n",
    "    else: \n",
    "        constante = 1\n",
    "        descuento = 0\n",
    "\n",
    "\n",
    "    # para mi, prima base es la prima que pagaría la persona bajo el esquema que desee pagar antes del descuento. \n",
    "    # Es decir, si la persona paga de manera trimestral, sería la suma de 3 primas mensuales. \n",
    "    prima_base = clases_de_seguros[tipo_de_vehiculo]['Prima mensual'] * valor_fiscal_del_activo * constante\n",
    "\n",
    "    # para mi, prima bajo descuento es la prima que pagaría la persona por un mes si se le aplicara el descuento. \n",
    "    # Es decir, si la persona paga de manera trimestral, sería la prima que paga por el segundo mes donde se le aplica un 5% de descuento. \n",
    "    prima_bajo_descuento = clases_de_seguros[tipo_de_vehiculo]['Prima mensual']*valor_fiscal_del_activo*0.95 \n",
    "    \n",
    "\n",
    "    # en lugar de meses de cobertura, después de ir a consulta, se habló que se trataba del pago total que debía pagar la persona por el seguro según las condiciones que eligió. \n",
    "\n",
    "    a = ( meses_de_cobertura % constante )\n",
    "    b = ( meses_de_cobertura // constante )\n",
    "\n",
    "    if (constante == 3): \n",
    "        if (a > 1):\n",
    "            d = a - 1\n",
    "            primas_con_descuentos = ((meses_de_cobertura - b) - d) * clases_de_seguros[tipo_de_vehiculo]['Prima mensual'] * valor_fiscal_del_activo * 0.95\n",
    "            primas_completas = (b + 1) * clases_de_seguros[tipo_de_vehiculo]['Prima mensual'] * valor_fiscal_del_activo\n",
    "\n",
    "        if (a == 1):\n",
    "            b = b + 1\n",
    "            d = a - 1\n",
    "            primas_con_descuentos = ((meses_de_cobertura - b) + d) * clases_de_seguros[tipo_de_vehiculo]['Prima mensual'] * valor_fiscal_del_activo * 0.95\n",
    "            primas_completas = (b) * clases_de_seguros[tipo_de_vehiculo]['Prima mensual'] * valor_fiscal_del_activo\n",
    "\n",
    "        if (a == 0):\n",
    "            primas_con_descuentos = (meses_de_cobertura - b) * clases_de_seguros[tipo_de_vehiculo]['Prima mensual'] * valor_fiscal_del_activo * 0.95\n",
    "            primas_completas = (b) * clases_de_seguros[tipo_de_vehiculo]['Prima mensual'] * valor_fiscal_del_activo\n",
    "    \n",
    "    elif (constante == 6): \n",
    "         if (a == 0):\n",
    "             primas_con_descuentos = ((5*b) * clases_de_seguros[tipo_de_vehiculo]['Prima mensual']) * valor_fiscal_del_activo * 0.95\n",
    "             primas_completas = (b) * clases_de_seguros[tipo_de_vehiculo]['Prima mensual'] * valor_fiscal_del_activo\n",
    "         elif (a == 1):\n",
    "             primas_con_descuentos = ((5*b) * clases_de_seguros[tipo_de_vehiculo]['Prima mensual']) * valor_fiscal_del_activo * 0.95\n",
    "             primas_completas = (b + 1) * clases_de_seguros[tipo_de_vehiculo]['Prima mensual'] * valor_fiscal_del_activo\n",
    "         elif (a == 2):\n",
    "             primas_con_descuentos = (((5*b) + 1) * clases_de_seguros[tipo_de_vehiculo]['Prima mensual']) * valor_fiscal_del_activo * 0.95\n",
    "             primas_completas = (b + 1) * clases_de_seguros[tipo_de_vehiculo]['Prima mensual'] * valor_fiscal_del_activo\n",
    "         elif (a == 3):\n",
    "             primas_con_descuentos = (((5*b) + 2) * clases_de_seguros[tipo_de_vehiculo]['Prima mensual']) * valor_fiscal_del_activo * 0.95\n",
    "             primas_completas = (b + 1) * clases_de_seguros[tipo_de_vehiculo]['Prima mensual'] * valor_fiscal_del_activo\n",
    "         elif (a == 4):\n",
    "             primas_con_descuentos = (((5*b) + 3) * clases_de_seguros[tipo_de_vehiculo]['Prima mensual']) * valor_fiscal_del_activo * 0.95\n",
    "             primas_completas = (b + 1) * clases_de_seguros[tipo_de_vehiculo]['Prima mensual'] * valor_fiscal_del_activo\n",
    "         else:\n",
    "             primas_con_descuentos = (((5*b) + 4) * clases_de_seguros[tipo_de_vehiculo]['Prima mensual']) * valor_fiscal_del_activo * 0.95\n",
    "             primas_completas = (b + 1) * clases_de_seguros[tipo_de_vehiculo]['Prima mensual'] * valor_fiscal_del_activo\n",
    "        \n",
    "    elif (constante == 12):\n",
    "         if (a == 0):\n",
    "             primas_con_descuentos = ((11*b) * clases_de_seguros[tipo_de_vehiculo]['Prima mensual']) * valor_fiscal_del_activo * 0.95\n",
    "             primas_completas = (b) * clases_de_seguros[tipo_de_vehiculo]['Prima mensual'] * valor_fiscal_del_activo\n",
    "         elif (a == 1):\n",
    "             primas_con_descuentos = ((11*b) * clases_de_seguros[tipo_de_vehiculo]['Prima mensual']) * valor_fiscal_del_activo * 0.95\n",
    "             primas_completas = (b + 1) * clases_de_seguros[tipo_de_vehiculo]['Prima mensual'] * valor_fiscal_del_activo\n",
    "         elif (a == 2):\n",
    "             primas_con_descuentos = (((11*b) + 1) * clases_de_seguros[tipo_de_vehiculo]['Prima mensual']) * valor_fiscal_del_activo * 0.95\n",
    "             primas_completas = (b + 1) * clases_de_seguros[tipo_de_vehiculo]['Prima mensual'] * valor_fiscal_del_activo\n",
    "         elif (a == 3):\n",
    "             primas_con_descuentos = (((11*b) + 2) * clases_de_seguros[tipo_de_vehiculo]['Prima mensual']) * valor_fiscal_del_activo * 0.95\n",
    "             primas_completas = (b + 1) * clases_de_seguros[tipo_de_vehiculo]['Prima mensual'] * valor_fiscal_del_activo\n",
    "         elif (a == 4):\n",
    "             primas_con_descuentos = (((11*b) + 3) * clases_de_seguros[tipo_de_vehiculo]['Prima mensual']) * valor_fiscal_del_activo * 0.95\n",
    "             primas_completas = (b + 1) * clases_de_seguros[tipo_de_vehiculo]['Prima mensual'] * valor_fiscal_del_activo\n",
    "         elif (a == 5):\n",
    "             primas_con_descuentos = (((11*b) + 4) * clases_de_seguros[tipo_de_vehiculo]['Prima mensual']) * valor_fiscal_del_activo * 0.95\n",
    "             primas_completas = (b + 1) * clases_de_seguros[tipo_de_vehiculo]['Prima mensual'] * valor_fiscal_del_activo\n",
    "         elif (a == 6):\n",
    "             primas_con_descuentos = (((11*b) + 5) * clases_de_seguros[tipo_de_vehiculo]['Prima mensual']) * valor_fiscal_del_activo * 0.95\n",
    "             primas_completas = (b + 1) * clases_de_seguros[tipo_de_vehiculo]['Prima mensual'] * valor_fiscal_del_activo\n",
    "         elif (a == 7):\n",
    "             primas_con_descuentos = (((11*b) + 6) * clases_de_seguros[tipo_de_vehiculo]['Prima mensual']) * valor_fiscal_del_activo * 0.95\n",
    "             primas_completas = (b + 1) * clases_de_seguros[tipo_de_vehiculo]['Prima mensual'] * valor_fiscal_del_activo\n",
    "         elif (a == 8):\n",
    "             primas_con_descuentos = (((11*b) + 7) * clases_de_seguros[tipo_de_vehiculo]['Prima mensual']) * valor_fiscal_del_activo * 0.95\n",
    "             primas_completas = (b + 1) * clases_de_seguros[tipo_de_vehiculo]['Prima mensual'] * valor_fiscal_del_activo\n",
    "         elif (a == 9):\n",
    "             primas_con_descuentos = (((11*b) + 8) * clases_de_seguros[tipo_de_vehiculo]['Prima mensual']) * valor_fiscal_del_activo * 0.95\n",
    "             primas_completas = (b + 1) * clases_de_seguros[tipo_de_vehiculo]['Prima mensual'] * valor_fiscal_del_activo\n",
    "         elif (a == 10):\n",
    "             primas_con_descuentos = (((11*b) + 9) * clases_de_seguros[tipo_de_vehiculo]['Prima mensual']) * valor_fiscal_del_activo * 0.95\n",
    "             primas_completas = (b + 1) * clases_de_seguros[tipo_de_vehiculo]['Prima mensual'] * valor_fiscal_del_activo\n",
    "         else:\n",
    "             primas_con_descuentos = (((11*b) + 10) * clases_de_seguros[tipo_de_vehiculo]['Prima mensual']) * valor_fiscal_del_activo * 0.95\n",
    "             primas_completas = (b + 1) * clases_de_seguros[tipo_de_vehiculo]['Prima mensual'] * valor_fiscal_del_activo\n",
    "    else: \n",
    "        primas_con_descuentos = 0\n",
    "        primas_completas = clases_de_seguros[tipo_de_vehiculo]['Prima mensual'] * valor_fiscal_del_activo * meses_de_cobertura\n",
    "        \n",
    "    solución = {\n",
    "        'Tipo de seguro' : 'Seguro para ' + tipo_de_vehiculo + '.',\n",
    "        'Prima base' : prima_base,\n",
    "        'Prima bajo descuento': prima_bajo_descuento,\n",
    "        'Meses de cobertura': meses_de_cobertura,\n",
    "        'Pago total': primas_completas + primas_con_descuentos\n",
    "    \n",
    "    }\n",
    "\n",
    "    \n",
    "    return solución"
   ]
  },
  {
   "cell_type": "code",
   "execution_count": 24,
   "id": "2e7763c1-1530-43da-8540-97bf2bf3d497",
   "metadata": {},
   "outputs": [
    {
     "data": {
      "text/plain": [
       "{'Tipo de seguro': 'Seguro para Bus.',\n",
       " 'Prima base': 15000.0,\n",
       " 'Prima bajo descuento': 4750.0,\n",
       " 'Meses de cobertura': 16,\n",
       " 'Pago total': 77500.0}"
      ]
     },
     "execution_count": 24,
     "metadata": {},
     "output_type": "execute_result"
    }
   ],
   "source": [
    "ejercicio_7(100000,'Bus','trimestral', 16)"
   ]
  },
  {
   "cell_type": "markdown",
   "id": "7b6cc3fa-894a-4a9f-89a8-6401cb761996",
   "metadata": {},
   "source": [
    "### Ejercicio 8"
   ]
  },
  {
   "cell_type": "markdown",
   "id": "7fb40288-3f1b-463e-8f67-5d624824ffcb",
   "metadata": {},
   "source": [
    "Para este ejercicio nos piden crear una función que inicialice un diccionario con las\n",
    "calificaciones de Rating AAA, AA, A, BBB, BB, B, C, D con las tasas de interés (créditos en colones)\n",
    "AAA de 6.4%, BBB de 8.4%, C de 15% y D de 25%, asumiendo una distribución uniforme para los restantes ratings. Además, si la persona tiene garantía, se le adiciona un 1% tasa interés a favor del\n",
    "cliente.\n",
    "\n",
    "Para este ejercicio, se asume que la tasa de interés dada es la tasa de interés efectiva de un año. Se necesita encontrar la tasa nominal de interés convertible pagadera 12 veces por periodo, y como se trata de interés simple, basta entonces con dividir la tasa de interés efectiva entre 12 para obtener la tasa nominal convertible con 12 pagos durante el año. "
   ]
  },
  {
   "cell_type": "code",
   "execution_count": 26,
   "id": "ac6c15e6-7137-4f64-8a7a-28f2baa19a62",
   "metadata": {},
   "outputs": [],
   "source": [
    "def ejercicio_8(empresa, monto_solicitado, años_del_prestamo, moneda, rating, garantia, valor_garantia):\n",
    "    clasificaciones = {}\n",
    "\n",
    "    # esto después de venir a consulta y entender las instrucciones, me di cuenta que hay cosas que están de más. \n",
    "    clasificaciones['AAA'] = {'Tasa de interes': 0.064, 'Tasa preferencial': 0.064 - 0.01, 'Tasa preferencial dolar': 0.064 + 0.035 - 0.01, 'Tasa dolar': 0.064 + 0.035}\n",
    "    clasificaciones['AA'] = {'Tasa de interes': 0.0707, 'Tasa preferencial': 0.0707 - 0.01, 'Tasa preferencial dolar': 0.0707 + 0.035 - 0.01, 'Tasa dolar': 0.0707+ 0.035}\n",
    "    clasificaciones['A'] = {'Tasa de interes': 0.0773, 'Tasa preferencial': 0.0773 - 0.01, 'Tasa preferencial dolar': 0.0773 + 0.035 - 0.01, 'Tasa dolar': 0.0773 + 0.035}\n",
    "    clasificaciones['BBB'] = {'Tasa de interes': 0.084, 'Tasa preferencial': 0.084 - 0.01, 'Tasa preferencial dolar': 0.084 + 0.035 - 0.01, 'Tasa dolar': 0.084 + 0.035}\n",
    "    clasificaciones['BB'] = {'Tasa de interes': 0.106, 'Tasa preferencial': 0.106 - 0.01, 'Tasa preferencial dolar': 0.106 + 0.035 - 0.01, 'Tasa dolar': 0.106 + 0.035}\n",
    "    clasificaciones['B'] = {'Tasa de interes': 0.128, 'Tasa preferencial': 0.128 - 0.01, 'Tasa preferencial dolar': 0.128 + 0.035 - 0.01,'Tasa dolar': 0.128 + 0.035}\n",
    "    clasificaciones['C'] = {'Tasa de interes': 0.15, 'Tasa preferencial': 0.15 - 0.01, 'Tasa preferencial dolar': 0.15 + 0.035 - 0.01, 'Tasa dolar': 0.15 + 0.035}\n",
    "    clasificaciones['D'] = {'Tasa de interes': 0.25, 'Tasa preferencial': 0.25 - 0.01, 'Tasa preferencial dolar': 0.25 + 0.035 - 0.01, 'Tasa dolar': 0.25 + 0.035}\n",
    "\n",
    "    Resultados = {}\n",
    "    Resultados['Empresa'] = empresa\n",
    "    Resultados['Rating'] = rating\n",
    "    Resultados['Tasa de interés base'] = clasificaciones[rating]['Tasa de interes']\n",
    "    Resultados['Moneda del préstamo'] = moneda\n",
    "     \n",
    "    if (garantia == 'si'):    \n",
    "        Resultados['Tasa preferencial'] = clasificaciones[rating]['Tasa preferencial']\n",
    "    else: \n",
    "        Resultados['Tasa preferencial'] = 'No aplica'\n",
    "\n",
    "\n",
    "    if (moneda  == 'dolar'):\n",
    "        Resultados['Tasa extranjera'] = clasificaciones[rating]['Tasa dolar']\n",
    "    else: \n",
    "        Resultados['Tasa extranjera'] = 'No aplica'\n",
    "        \n",
    "    if (garantia == 'si'): \n",
    "         if (moneda == 'dolar'): \n",
    "             Resultados['Tasa neta'] = clasificaciones[rating]['Tasa preferencial dolar']\n",
    "         else: \n",
    "             Resultados['Tasa neta'] = Resultados['Tasa preferencial']\n",
    "    else: \n",
    "         if (moneda == 'dolar'):\n",
    "              Resultados['Tasa neta']= clasificaciones[rating]['Tasa dolar']\n",
    "         else: \n",
    "             Resultados['Tasa neta'] = clasificaciones[rating]['Tasa de interes'] \n",
    "\n",
    "    \n",
    "\n",
    "    \n",
    "    Resultados['Monto préstamo solicitado'] = monto_solicitado + (monto_solicitado * 0.05)\n",
    "    Resultados['Comisiones'] = monto_solicitado * 0.05\n",
    "    Resultados['Monto préstamo total'] = monto_solicitado + (monto_solicitado * 0.05)\n",
    "    Resultados['LTV'] = (monto_solicitado + (monto_solicitado * 0.05)) / valor_garantia\n",
    "  \n",
    "    Resultados['Cantidad de meses a pagar'] = años_del_prestamo * 12\n",
    "   \n",
    "    Resultados['Cuota mensual'] = Resultados['Monto préstamo total'] * (Resultados['Tasa neta']/12) / (1 - pow(1 + (Resultados['Tasa neta']/12),-Resultados['Cantidad de meses a pagar']))\n",
    "\n",
    "    # Al final estoy ajustando lo que el profe se refería después de venir a consulta\n",
    "    # Hice estos cambios acá para no tener que modificar toda la estructura del código, pues lo demás estaba bien. \n",
    "    Resultados['Tasa preferencial'] = 0.01\n",
    "    Resultados['Tasa extranjera'] = 0.035\n",
    "    \n",
    "    return Resultados"
   ]
  },
  {
   "cell_type": "code",
   "execution_count": 27,
   "id": "f395d475-aef2-4e93-b157-b581113a51d8",
   "metadata": {},
   "outputs": [
    {
     "data": {
      "text/plain": [
       "{'Empresa': 'Hospital Acetaminofén',\n",
       " 'Rating': 'A',\n",
       " 'Tasa de interés base': 0.0773,\n",
       " 'Moneda del préstamo': 'dolar',\n",
       " 'Tasa preferencial': 0.01,\n",
       " 'Tasa extranjera': 0.035,\n",
       " 'Tasa neta': 0.1023,\n",
       " 'Monto préstamo solicitado': 1260000.0,\n",
       " 'Comisiones': 60000.0,\n",
       " 'Monto préstamo total': 1260000.0,\n",
       " 'LTV': 0.84,\n",
       " 'Cantidad de meses a pagar': 360,\n",
       " 'Cuota mensual': 11272.14745405598}"
      ]
     },
     "execution_count": 27,
     "metadata": {},
     "output_type": "execute_result"
    }
   ],
   "source": [
    "ejercicio_8('Hospital Acetaminofén', 1200000, 30, 'dolar', 'A', 'si', 1500000)\n"
   ]
  },
  {
   "cell_type": "markdown",
   "id": "c72f6d1e-6793-4eb3-9d04-850ca402741d",
   "metadata": {},
   "source": [
    "# Fin de la Tarea 1 :)\n",
    "\n"
   ]
  },
  {
   "cell_type": "code",
   "execution_count": null,
   "id": "db7b6e8d-5344-4c68-a1c9-90ec3983eba6",
   "metadata": {},
   "outputs": [],
   "source": []
  }
 ],
 "metadata": {
  "kernelspec": {
   "display_name": "Python 3 (ipykernel)",
   "language": "python",
   "name": "python3"
  },
  "language_info": {
   "codemirror_mode": {
    "name": "ipython",
    "version": 3
   },
   "file_extension": ".py",
   "mimetype": "text/x-python",
   "name": "python",
   "nbconvert_exporter": "python",
   "pygments_lexer": "ipython3",
   "version": "3.11.7"
  }
 },
 "nbformat": 4,
 "nbformat_minor": 5
}
