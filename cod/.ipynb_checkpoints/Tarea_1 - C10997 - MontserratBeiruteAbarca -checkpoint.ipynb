{
 "cells": [
  {
   "cell_type": "markdown",
   "id": "e6af39bb-0cf8-479c-a918-5c102c439a6d",
   "metadata": {},
   "source": [
    "# Tarea 1 \n",
    "## Montserrat Beirute Abarca C10997"
   ]
  },
  {
   "cell_type": "markdown",
   "id": "03e471cd-7a51-464e-a54e-ae2265f9b0c8",
   "metadata": {},
   "source": [
    "**Universidad de Costa Rica**<br>\n",
    "**Curso CA0305 I-2024**<br>\n",
    "**Encargado Potoy Juárez Luis Alberto**"
   ]
  },
  {
   "cell_type": "markdown",
   "id": "3637be89-f8fe-4977-9ebd-7cb5b2c47d9f",
   "metadata": {},
   "source": [
    "### Ejercicio 1"
   ]
  },
  {
   "cell_type": "markdown",
   "id": "609bd15f-c17a-40ce-baf9-5f17e0857b8b",
   "metadata": {},
   "source": [
    "El ejercicio nos pide una función que inicialice una lista con tres valores aleatorios del 1 al 100. Luego, debe impirmir en un diccionario con los componentes de la división, al dividirlo por otro número aleatorio del 1 al 10. "
   ]
  },
  {
   "cell_type": "code",
   "execution_count": 1,
   "id": "10b388ab-da9f-42ac-a452-cfd5c0f7cda6",
   "metadata": {},
   "outputs": [],
   "source": [
    "import random # le pedimos que importe random para generar números aleatorios, a sugerencia del profesor"
   ]
  },
  {
   "cell_type": "code",
   "execution_count": 2,
   "id": "d0939a5e-db85-4a3b-9008-5a7a78d6f121",
   "metadata": {},
   "outputs": [],
   "source": [
    "def ejercicio_1():\n",
    "    # inicializamos la lista de tres números aleatorios del 1 al 100 \n",
    "    num_aleatorio1 = random.randint(1,100)\n",
    "    num_aleatorio2 = random.randint(1,100)\n",
    "    num_aleatorio3 = random.randint(1,100)\n",
    "    lista_aleatoria = [num_aleatorio1,num_aleatorio2,num_aleatorio3]\n",
    "\n",
    "    # Seleccionamos un número aleatorio del 1 al 10\n",
    "    num_aleatorio4 = random.randint(1,10)\n",
    "\n",
    "    # Creamos un diccionario que se llama diccionario\n",
    "    diccionario = {}\n",
    "\n",
    "    # Obtenemos los componentes de la división y los almacenamos en diccionario \n",
    "    \n",
    "    diccionario['Dividendo'] = lista_aleatoria\n",
    "    diccionario['Divisor'] = [num_aleatorio4,num_aleatorio4,num_aleatorio4]\n",
    "    diccionario['Cociente'] = [num_aleatorio1 // num_aleatorio4, num_aleatorio2 // num_aleatorio4, num_aleatorio3 // num_aleatorio4]\n",
    "    diccionario['Residuo'] = [num_aleatorio1 % num_aleatorio4, num_aleatorio2 % num_aleatorio4, num_aleatorio3 % num_aleatorio4]\n",
    "    \n",
    "    return diccionario\n",
    "   "
   ]
  },
  {
   "cell_type": "code",
   "execution_count": 3,
   "id": "0aaf6313-6b62-435d-97fb-0fe1212c447d",
   "metadata": {},
   "outputs": [
    {
     "data": {
      "text/plain": [
       "{'Dividendo': [68, 24, 61],\n",
       " 'Divisor': [8, 8, 8],\n",
       " 'Cociente': [8, 3, 7],\n",
       " 'Residuo': [4, 0, 5]}"
      ]
     },
     "execution_count": 3,
     "metadata": {},
     "output_type": "execute_result"
    }
   ],
   "source": [
    "ejercicio_1()"
   ]
  },
  {
   "cell_type": "code",
   "execution_count": null,
   "id": "38430ef6-01a9-40d9-888c-6e7f79dad5dd",
   "metadata": {},
   "outputs": [],
   "source": []
  }
 ],
 "metadata": {
  "kernelspec": {
   "display_name": "Python 3 (ipykernel)",
   "language": "python",
   "name": "python3"
  },
  "language_info": {
   "codemirror_mode": {
    "name": "ipython",
    "version": 3
   },
   "file_extension": ".py",
   "mimetype": "text/x-python",
   "name": "python",
   "nbconvert_exporter": "python",
   "pygments_lexer": "ipython3",
   "version": "3.11.7"
  }
 },
 "nbformat": 4,
 "nbformat_minor": 5
}
