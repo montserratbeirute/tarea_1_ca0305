{
 "cells": [
  {
   "cell_type": "markdown",
   "id": "e6af39bb-0cf8-479c-a918-5c102c439a6d",
   "metadata": {},
   "source": [
    "# Tarea 1 \n",
    "## Montserrat Beirute Abarca C10997"
   ]
  },
  {
   "cell_type": "markdown",
   "id": "03e471cd-7a51-464e-a54e-ae2265f9b0c8",
   "metadata": {},
   "source": [
    "**Universidad de Costa Rica**<br>\n",
    "**Curso CA0305 I-2024**<br>\n",
    "**Encargado Potoy Juárez Luis Alberto**"
   ]
  },
  {
   "cell_type": "markdown",
   "id": "3637be89-f8fe-4977-9ebd-7cb5b2c47d9f",
   "metadata": {},
   "source": [
    "### Ejercicio 1"
   ]
  },
  {
   "cell_type": "markdown",
   "id": "609bd15f-c17a-40ce-baf9-5f17e0857b8b",
   "metadata": {},
   "source": [
    "El ejercicio nos pide una función que inicialice una lista con tres valores aleatorios del 1 al 100. Luego, debe impirmir en un diccionario con los componentes de la división, al dividirlo por otro número aleatorio del 1 al 10. "
   ]
  },
  {
   "cell_type": "code",
   "execution_count": 1,
   "id": "10b388ab-da9f-42ac-a452-cfd5c0f7cda6",
   "metadata": {},
   "outputs": [],
   "source": [
    "import random # le pedimos que importe random para generar números aleatorios, a sugerencia del profesor"
   ]
  },
  {
   "cell_type": "code",
   "execution_count": 2,
   "id": "d0939a5e-db85-4a3b-9008-5a7a78d6f121",
   "metadata": {},
   "outputs": [],
   "source": [
    "def ejercicio_1():\n",
    "    # inicializamos la lista de tres números aleatorios del 1 al 100 \n",
    "    num_aleatorio1 = random.randint(1,100)\n",
    "    num_aleatorio2 = random.randint(1,100)\n",
    "    num_aleatorio3 = random.randint(1,100)\n",
    "    lista_aleatoria = [num_aleatorio1,num_aleatorio2,num_aleatorio3]\n",
    "\n",
    "    # Seleccionamos un número aleatorio del 1 al 10\n",
    "    num_aleatorio4 = random.randint(1,10)\n",
    "\n",
    "    # Creamos un diccionario que se llama diccionario\n",
    "    diccionario = {}\n",
    "\n",
    "    # Obtenemos los componentes de la división y los almacenamos en diccionario \n",
    "    \n",
    "    diccionario['Dividendo'] = lista_aleatoria\n",
    "    diccionario['Divisor'] = [num_aleatorio4,num_aleatorio4,num_aleatorio4]\n",
    "    diccionario['Cociente'] = [num_aleatorio1 // num_aleatorio4, num_aleatorio2 // num_aleatorio4, num_aleatorio3 // num_aleatorio4]\n",
    "    diccionario['Residuo'] = [num_aleatorio1 % num_aleatorio4, num_aleatorio2 % num_aleatorio4, num_aleatorio3 % num_aleatorio4]\n",
    "    \n",
    "    return diccionario\n",
    "   "
   ]
  },
  {
   "cell_type": "code",
   "execution_count": 3,
   "id": "0aaf6313-6b62-435d-97fb-0fe1212c447d",
   "metadata": {},
   "outputs": [
    {
     "data": {
      "text/plain": [
       "{'Dividendo': [68, 24, 61],\n",
       " 'Divisor': [8, 8, 8],\n",
       " 'Cociente': [8, 3, 7],\n",
       " 'Residuo': [4, 0, 5]}"
      ]
     },
     "execution_count": 3,
     "metadata": {},
     "output_type": "execute_result"
    }
   ],
   "source": [
    "ejercicio_1()"
   ]
  },
  {
   "cell_type": "markdown",
   "id": "76ef48e1-b30b-4d26-a7b8-5d09b8967688",
   "metadata": {},
   "source": [
    "### Ejercicio 2 "
   ]
  },
  {
   "cell_type": "markdown",
   "id": "ddc6440c-136c-4fc4-9f01-6b508b71c163",
   "metadata": {},
   "source": [
    "Nos piden crear una función que reciba la cadena \"¡Hola!, ¿cómo va todo? Éxitos\" y devuelva un diccionario con la cantidad de apariciones de cada palabra en la cadena. En el código, a continuación se encontrarán unas notas por si se quiere no hacer diferencia entre palabras por sus mayúsculas y tildes. "
   ]
  },
  {
   "cell_type": "code",
   "execution_count": 4,
   "id": "395c46c6-605a-409b-942d-5994439df2cd",
   "metadata": {},
   "outputs": [],
   "source": [
    "cadena = '¡Hola!, ¿cómo va todo? Éxitos' # Esta cadena es fija, no varía. La función contempla que esta es la cadena que va a recibir. \n",
    "def ejercicio_2(cadena):\n",
    "\n",
    "    # Si quisieramos que la cadena identificara las palabras sin importar si están en mayúscula, se puede correr el siguiente código\n",
    "    # cadena = cadena.lower()\n",
    "\n",
    "    # Si quisieramos que se omitieran las tildes, se puede correr el siguiente código\n",
    "    # cadena = cadena.replace('é', 'e').replace('É', 'E').replace('á', 'a').replace('Á', 'A') .replace('í', 'i').replace('Í', 'I').replace('ó', 'o').replace('Ó', 'O').replace('ú', 'u').replace('Ú', 'U')\n",
    "\n",
    "    # Para separar la oración en partes, cada vez que aparece un espacio\n",
    "    palabras_distintas = cadena.split() \n",
    "\n",
    "    # Establecemos el diccionario cuenta que nos almacena la cantidad de veces que apareció la palabra. \n",
    "    cuenta = {} \n",
    "\n",
    "    # Le pedimos que cuente la cantidad de veces que sale cada palabra. \n",
    "    # Importante señalar que esto se hace así porque la cadena es fija, no va a cambiar. \n",
    "    cuenta['¡Hola!,'] = palabras_distintas.count('¡Hola!,')  \n",
    "    cuenta['¿cómo'] = palabras_distintas.count('¿cómo')\n",
    "    cuenta['va'] = palabras_distintas.count('va')\n",
    "    cuenta['todo?'] = palabras_distintas.count('todo?')\n",
    "    cuenta['Éxitos'] = palabras_distintas.count('Éxitos')\n",
    "\n",
    "\n",
    "   # En caso de que se realizaran ambas sugerencias sobre las mayúsculas y las tildes, esta sería la solución:\n",
    "    cuenta2 = {} \n",
    "    cuenta2['¡hola!,'] = palabras_distintas.count('¡hola!,')  \n",
    "    cuenta2['¿como'] = palabras_distintas.count('¿como')\n",
    "    cuenta2['va'] = palabras_distintas.count('va')\n",
    "    cuenta2['todo?'] = palabras_distintas.count('todo?')\n",
    "    cuenta2['exitos'] = palabras_distintas.count('exitos')\n",
    "\n",
    "\n",
    "    solucion = {}\n",
    "    \n",
    "    if (cuenta2['¡hola!,'] == 1):\n",
    "        solucion = cuenta2\n",
    "    else: solucion = cuenta\n",
    "    \n",
    "    return solucion"
   ]
  },
  {
   "cell_type": "code",
   "execution_count": 5,
   "id": "9c174650-8d39-498b-a78f-aab59de333d2",
   "metadata": {},
   "outputs": [
    {
     "data": {
      "text/plain": [
       "{'¡Hola!,': 1, '¿cómo': 1, 'va': 1, 'todo?': 1, 'Éxitos': 1}"
      ]
     },
     "execution_count": 5,
     "metadata": {},
     "output_type": "execute_result"
    }
   ],
   "source": [
    "ejercicio_2(cadena)"
   ]
  },
  {
   "cell_type": "markdown",
   "id": "fefb3dda-23a1-4702-a75d-7bf2dceaa4f8",
   "metadata": {},
   "source": [
    "### Ejercicio 3"
   ]
  },
  {
   "cell_type": "markdown",
   "id": "f678d0c8-12e3-4d4d-ae73-763a837aac0c",
   "metadata": {},
   "source": [
    "Se nos pide escribir una función que devuelva un diccionario con la cantidad de apariciones de los signos de puntuación.\n",
    "En este caso, se consultó la página [RAE](https://www.rae.es/ortograf%C3%ADa/signos-de-puntuaci%C3%B3n). "
   ]
  },
  {
   "cell_type": "code",
   "execution_count": 9,
   "id": "00cbde4e-4533-4837-8376-82f70fb5540d",
   "metadata": {},
   "outputs": [],
   "source": [
    "cadena = '¡Hola!, ¿cómo va todo? Éxitos'\n",
    "\n",
    "def ejercicio_3(cadena):\n",
    "    # vamos a considerar los signos de punctuación que considera la Real Academia Española\n",
    "\n",
    "    # Nos piden omitir las tildes\n",
    "    cadena = cadena.replace('é', 'e').replace('É', 'E').replace('á', 'a').replace('Á', 'A') .replace('í', 'i').replace('Í', 'I').replace('ó', 'o').replace('Ó', 'O').replace('ú', 'u').replace('Ú', 'U')\n",
    "\n",
    "    # Establecemos la variable tres_puntos para diferenciar el signo de punctuación '.' de '...'\n",
    "    tres_puntos = cadena.count('...')\n",
    "\n",
    "    # Almacenamos para cada signo de punctuación, la cantidad de veces que aparece en el texto. \n",
    "    signos = {\n",
    "        '.': cadena.count('.') - 3*tres_puntos,\n",
    "        ',': cadena.count(','),\n",
    "        ';': cadena.count(';'),\n",
    "        ':': cadena.count(':'),\n",
    "        '(': cadena.count('('),\n",
    "        ')': cadena.count(')'),\n",
    "        '{': cadena.count('{'),\n",
    "        '}': cadena.count('}'),\n",
    "        '-': cadena.count('-'),\n",
    "        '\"': cadena.count('\"'),\n",
    "        '¿': cadena.count('¿'),\n",
    "        '?': cadena.count('?'),\n",
    "        '¡': cadena.count('¡'),\n",
    "        '!': cadena.count('!'), \n",
    "        '...': cadena.count('...')\n",
    "    }\n",
    "\n",
    "    total_signos = signos['.'] + signos[','] + signos[';'] + signos[':'] + signos['('] + signos[')'] + signos['{'] + signos['}'] + signos['-'] + signos['\"'] + signos['¿'] + signos['?'] + signos['¡'] + signos['!'] + signos['...']  \n",
    "    return 'Hay ' + str(total_signos) + ' signos de puntuación siguiendo lo establecido por la RAE.'"
   ]
  },
  {
   "cell_type": "code",
   "execution_count": 10,
   "id": "60aafc99-c995-4b1f-8e72-5c28e907f127",
   "metadata": {},
   "outputs": [
    {
     "data": {
      "text/plain": [
       "'Hay 5 signos de puntuación siguiendo lo establecido por la RAE.'"
      ]
     },
     "execution_count": 10,
     "metadata": {},
     "output_type": "execute_result"
    }
   ],
   "source": [
    "ejercicio_3(cadena)"
   ]
  },
  {
   "cell_type": "markdown",
   "id": "277973c8-5360-4b38-9c7c-e53fb9b76438",
   "metadata": {},
   "source": [
    "### Ejercicio 4"
   ]
  },
  {
   "cell_type": "markdown",
   "id": "3b801151-658c-4306-a9cc-a41f4c76e28d",
   "metadata": {},
   "source": [
    "Nos piden escribir una función que reciba un **texto de dos palabras** y un caracter presente. Si el caracter está en el texto, debe devolver la cadena más larga en la que se encuentra ese caracter. \n",
    "El texto y caracter deben de ir escritos entre: ' '. \n",
    "Además, las palabras en el texto deben de ir separadas por un espacio. \n",
    "\n",
    "A continuación se presenta un ejemplo de lo que se espera que usted ingrese para que el código funcione de manera correcta. \n",
    "*Ejemplo: ejercicio_4('Jupyter Notebook','a').*"
   ]
  },
  {
   "cell_type": "code",
   "execution_count": 12,
   "id": "ec15d6ee-57ff-4b78-a2b5-c6e79a9a6da7",
   "metadata": {},
   "outputs": [],
   "source": [
    "def ejercicio_4(texto, caracter):\n",
    "    texto = texto.split()\n",
    "\n",
    "    # Si la persona ingresa más de dos palabras saldrá este mensaje \n",
    "    if (len(texto) > 2): \n",
    "        print( 'Se le solicita ingresar solo dos palabras para el texto, de lo contrario, la solución sólo tomará las primeras dos palabras que ingresó y omitirá las siguientes.')\n",
    "\n",
    "    # Si la persona ingresa menos de dos palabras, saldrá este mensaje\n",
    "    if ( len(texto) < 2): \n",
    "        return 'No ingresaste las dos palabras solicitadas.'\n",
    "        \n",
    "    # Obtenemos el tamaño de las palabras ingresadas\n",
    "    length1 = len(texto[0])\n",
    "    length2 = len(texto[1])\n",
    "\n",
    "    # Procedemos por casos\n",
    "\n",
    "    # Caso 1: Si la primera palabra es más larga que la segunda palabra entonces tomamos este camino y se omiten los siguientes dos casos. \n",
    "    if (length1 > length2):\n",
    "\n",
    "        # Luego analizamos si la primera palabra tiene el caracter ingresado, si lo tiene, hemos encontrado la palabra más larga con el caracter ingresado. \n",
    "        if (texto[0].count(caracter) > 0):\n",
    "            palabra_escogida = texto[0]\n",
    "\n",
    "        # Si la primera palabra no tiene el caracter ingresado, revisamos si la palabra dos tiene el caracter ingresado, si lo tiene, hemos encontrado la palabra más larga con el caracter ingresado. \n",
    "        elif(texto[1].count(caracter) > 0):\n",
    "            palabra_escogida = texto[1]\n",
    "\n",
    "        # Si ninguna de las palabras tiene el caracter ingresado, le decimos que ninguna palabra tiene el caracter ingresado y se omite el siguiente caso. \n",
    "        else:\n",
    "            palabra_escogida = 'Ninguna de las palabras tiene el caracter ingresado.'\n",
    "\n",
    "    # Caso 2: Si la segunda palabra es más larga que la primera palabra, entonces tomamos este camino. \n",
    "    # Se repite la misma lógica del primer caso. \n",
    "    \n",
    "    elif (length2 > length1): \n",
    "        if (texto[1].count(caracter) > 0):\n",
    "            palabra_escogida = texto[1]\n",
    "        elif(texto[0].count(caracter) > 0):\n",
    "            palabra_escogida = texto[0]\n",
    "        else:\n",
    "            palabra_escogida = 'Ninguna de las palabras tiene el caracter ingresado.'\n",
    "            \n",
    "    # Caso 3: Si las palabras son del mismo tamaño, se toma este camino. \n",
    "    else: \n",
    "        \n",
    "        # Verificamos si la primera palabra tiene el caracter ingresado. \n",
    "        if (texto[0].count(caracter) > 0):\n",
    "            \n",
    "            # Si la primera palabra tiene el caracter, revisamos si la segunda palabra tiene el caracter ingresado. \n",
    "            if (texto[1].count(caracter) > 0):\n",
    "\n",
    "                # Si la segunda palabra también tiene el caracter, devolvemos las palabras y señalamos que ambas palabras lo tienen\n",
    "                palabra_escogida = str(texto[0]) + ' y ' + str(texto[1]) +' ambas son del mismo tamaño y tienen el caracter ingresado.'\n",
    "\n",
    "            # Si la palabra dos no tiene el caracter, solo devolvemos la primera palabra. \n",
    "            else: palabra_escogida = texto[0]\n",
    "\n",
    "        # Si la primera palabra no tiene el caracter ingresado, entonces vamos por este camino. \n",
    "        else: \n",
    "            # Verificamos si la segunda palabra tiene el caracter. \n",
    "            if (texto[1].count(caracter) > 0):\n",
    "\n",
    "                # Si lo tiene, devolvemos unicamente la palabra dos. \n",
    "                palabra_escogida = texto[1]\n",
    "\n",
    "            # Si la segunda palabra no tiene el caracter, devolvemos el siguiente mensaje. \n",
    "            else: palabra_escogida = str(texto[0]) + ' y ' + str(texto[1]) + ' son del mismo tamaño y ninguna tiene el caracter ingresado.'\n",
    "\n",
    "    respuesta = {}\n",
    "    respuesta[caracter] = palabra_escogida\n",
    "    return respuesta"
   ]
  },
  {
   "cell_type": "code",
   "execution_count": 13,
   "id": "329b9c70-e67d-4f4e-a164-4381c3ecba7d",
   "metadata": {},
   "outputs": [
    {
     "data": {
      "text/plain": [
       "{'f': 'buenas y tardes son del mismo tamaño y ninguna tiene el caracter ingresado.'}"
      ]
     },
     "execution_count": 13,
     "metadata": {},
     "output_type": "execute_result"
    }
   ],
   "source": [
    "ejercicio_4('buenas tardes', 'f')"
   ]
  },
  {
   "cell_type": "code",
   "execution_count": null,
   "id": "730f8557-f1ea-4a47-b4c9-96a6f73a3f5c",
   "metadata": {},
   "outputs": [],
   "source": []
  }
 ],
 "metadata": {
  "kernelspec": {
   "display_name": "Python 3 (ipykernel)",
   "language": "python",
   "name": "python3"
  },
  "language_info": {
   "codemirror_mode": {
    "name": "ipython",
    "version": 3
   },
   "file_extension": ".py",
   "mimetype": "text/x-python",
   "name": "python",
   "nbconvert_exporter": "python",
   "pygments_lexer": "ipython3",
   "version": "3.11.7"
  }
 },
 "nbformat": 4,
 "nbformat_minor": 5
}
